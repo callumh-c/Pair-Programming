{
 "cells": [
  {
   "cell_type": "code",
   "execution_count": 1,
   "id": "7078b3fd",
   "metadata": {
    "tags": []
   },
   "outputs": [],
   "source": [
    "import numpy as np\n",
    "\n",
    "def arr_mean_adj(array,target_mean):\n",
    "    array = array + (target_mean - np.mean(array))\n",
    "    return array\n",
    "## Feedback: looks good, I had to change the addition from \"array +=...\" to \"array = array +...\" beacause it \n",
    "## was getting mad, maybe just add a name to the file and it should be good"
   ]
  },
  {
   "cell_type": "code",
   "execution_count": 2,
   "id": "ce9f57e2-f8e9-4c87-9d75-7c346c1a9edc",
   "metadata": {
    "tags": []
   },
   "outputs": [],
   "source": [
    "def test_arr_mean_adj(array, target_mean):\n",
    "    assert arr_mean_adj(array,target_mean).size != 0, \"Array is empty\"\n",
    "    assert target_mean == np.mean(arr_mean_adj(array, target_mean)), \"Target mean is not met\"\n",
    "    return \"All tests passed\""
   ]
  },
  {
   "cell_type": "code",
   "execution_count": 3,
   "id": "938734fc-17ec-4a8f-ac1b-431d7ba82980",
   "metadata": {
    "tags": []
   },
   "outputs": [
    {
     "name": "stdout",
     "output_type": "stream",
     "text": [
      "All tests passed\n"
     ]
    }
   ],
   "source": [
    "lst = [1, 2, 3, 4, 5]\n",
    "arr = np.array(lst)\n",
    "print(test_arr_mean_adj(arr, 5))"
   ]
  }
 ],
 "metadata": {
  "kernelspec": {
   "display_name": "Python 3 (ipykernel)",
   "language": "python",
   "name": "python3"
  },
  "language_info": {
   "codemirror_mode": {
    "name": "ipython",
    "version": 3
   },
   "file_extension": ".py",
   "mimetype": "text/x-python",
   "name": "python",
   "nbconvert_exporter": "python",
   "pygments_lexer": "ipython3",
   "version": "3.11.4"
  }
 },
 "nbformat": 4,
 "nbformat_minor": 5
}
